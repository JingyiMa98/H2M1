{
 "cells": [
  {
   "cell_type": "code",
   "execution_count": 1,
   "metadata": {},
   "outputs": [],
   "source": [
    "import os\n",
    "os.environ[\"PYTHONIOENCODING\"] = \"utf-8\""
   ]
  },
  {
   "cell_type": "code",
   "execution_count": 2,
   "metadata": {},
   "outputs": [
    {
     "name": "stderr",
     "output_type": "stream",
     "text": [
      "/Users/majingyi/Downloads/H2M1/.venvH2/lib/python3.12/site-packages/tqdm/auto.py:21: TqdmWarning: IProgress not found. Please update jupyter and ipywidgets. See https://ipywidgets.readthedocs.io/en/stable/user_install.html\n",
      "  from .autonotebook import tqdm as notebook_tqdm\n"
     ]
    }
   ],
   "source": [
    "from transformers import pipeline\n",
    "from openai import OpenAI\n",
    "from dotenv import load_dotenv\n",
    "import os\n"
   ]
  },
  {
   "cell_type": "code",
   "execution_count": 3,
   "metadata": {},
   "outputs": [
    {
     "data": {
      "text/plain": [
       "True"
      ]
     },
     "execution_count": 3,
     "metadata": {},
     "output_type": "execute_result"
    }
   ],
   "source": [
    "load_dotenv()"
   ]
  },
  {
   "cell_type": "code",
   "execution_count": 4,
   "metadata": {},
   "outputs": [],
   "source": [
    "def img2text(url):\n",
    "    img_to_text_pipe = pipeline(\"image-to-text\", model=\"Salesforce/blip-image-captioning-large\")\n",
    "    text = img_to_text_pipe(url)[0][\"generated_text\"]\n",
    "    # print(text)\n",
    "    return text\n"
   ]
  },
  {
   "cell_type": "code",
   "execution_count": 5,
   "metadata": {},
   "outputs": [
    {
     "name": "stderr",
     "output_type": "stream",
     "text": [
      "Hardware accelerator e.g. GPU is available in the environment, but no `device` argument is passed to the `Pipeline` object. Model will be on CPU.\n",
      "/Users/majingyi/Downloads/H2M1/.venvH2/lib/python3.12/site-packages/transformers/generation/utils.py:1220: UserWarning: Using the model-agnostic default `max_length` (=20) to control the generation length. We recommend setting `max_new_tokens` to control the maximum length of the generation.\n",
      "  warnings.warn(\n"
     ]
    }
   ],
   "source": [
    "scenario = img2text(\"A.jpg\")"
   ]
  },
  {
   "cell_type": "code",
   "execution_count": 8,
   "metadata": {},
   "outputs": [],
   "source": [
    "def textGeneration(msg):\n",
    "    client = OpenAI()\n",
    "\n",
    "\n",
    "    msg_list = [\n",
    "        {\n",
    "            \"role\": \"system\", \n",
    "            \"content\": \"You are a renowned poet. Write a beautiful and emotional poem with a title. Use vivid imagery, elegant language, and metaphors. The poem should evoke deep emotions and can be of any length.\"\n",
    "        }\n",
    "    ]\n",
    "    msg_list.append(msg)\n",
    "\n",
    "    response = client.chat.completions.create(\n",
    "        model=\"gpt-4o-mini\",\n",
    "        temperature=0.7, \n",
    "        max_completion_tokens=300,\n",
    "        messages=msg_list\n",
    "    )\n",
    "    print(response)\n",
    "    out_message = response.choices[0].message.content\n",
    "    return out_message\n"
   ]
  },
  {
   "cell_type": "code",
   "execution_count": 7,
   "metadata": {},
   "outputs": [
    {
     "name": "stdout",
     "output_type": "stream",
     "text": [
      "ChatCompletion(id='chatcmpl-AKY9FYzEM9tk0atjAZY0pAQxgoSng', choices=[Choice(finish_reason='stop', index=0, logprobs=None, message=ChatCompletionMessage(content=\"Sitting on the ancient stone wall, Clara gazed at the shimmering lake, its surface mirroring the vibrant autumn leaves. The trees whispered secrets in the gentle breeze, their branches swaying like dancers. Each ripple in the water seemed to carry a memory, a fleeting moment of laughter shared with her late grandmother. She closed her eyes, inhaling the crisp air, feeling the warmth of the sun on her face. In that serene spot, time stood still, and for a brief moment, Clara felt her grandmother's presence, as if the lake held the stories of their love, forever reflected in its depths.\", refusal=None, role='assistant', audio=None, function_call=None, tool_calls=None))], created=1729461189, model='gpt-4o-mini-2024-07-18', object='chat.completion', service_tier=None, system_fingerprint='fp_482c22a7bc', usage=CompletionUsage(completion_tokens=123, prompt_tokens=51, total_tokens=174, completion_tokens_details=CompletionTokensDetails(audio_tokens=None, reasoning_tokens=0), prompt_tokens_details=PromptTokensDetails(audio_tokens=None, cached_tokens=0)))\n",
      "Sitting on the ancient stone wall, Clara gazed at the shimmering lake, its surface mirroring the vibrant autumn leaves. The trees whispered secrets in the gentle breeze, their branches swaying like dancers. Each ripple in the water seemed to carry a memory, a fleeting moment of laughter shared with her late grandmother. She closed her eyes, inhaling the crisp air, feeling the warmth of the sun on her face. In that serene spot, time stood still, and for a brief moment, Clara felt her grandmother's presence, as if the lake held the stories of their love, forever reflected in its depths.\n"
     ]
    }
   ],
   "source": [
    "msg = {\"role\": \"user\", \"content\": scenario}\n",
    "story = textGeneration(msg)\n",
    "print(story)"
   ]
  }
 ],
 "metadata": {
  "kernelspec": {
   "display_name": ".venvH2",
   "language": "python",
   "name": "python3"
  },
  "language_info": {
   "codemirror_mode": {
    "name": "ipython",
    "version": 3
   },
   "file_extension": ".py",
   "mimetype": "text/x-python",
   "name": "python",
   "nbconvert_exporter": "python",
   "pygments_lexer": "ipython3",
   "version": "3.12.2"
  }
 },
 "nbformat": 4,
 "nbformat_minor": 2
}
